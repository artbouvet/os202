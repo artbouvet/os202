{
  "nbformat": 4,
  "nbformat_minor": 0,
  "metadata": {
    "colab": {
      "name": "Untitled5.ipynb",
      "provenance": [],
      "gpuType": "T4",
      "include_colab_link": true
    },
    "kernelspec": {
      "name": "python3",
      "display_name": "Python 3"
    },
    "language_info": {
      "name": "python"
    },
    "accelerator": "GPU"
  },
  "cells": [
    {
      "cell_type": "markdown",
      "metadata": {
        "id": "view-in-github",
        "colab_type": "text"
      },
      "source": [
        "<a href=\"https://colab.research.google.com/github/artbouvet/os202/blob/master/travaux_diriges/tp5/TP_numero_cinq.ipynb\" target=\"_parent\"><img src=\"https://colab.research.google.com/assets/colab-badge.svg\" alt=\"Open In Colab\"/></a>"
      ]
    },
    {
      "cell_type": "markdown",
      "metadata": {
        "id": "etdu6cUmeDmX"
      },
      "source": [
        "# Configurer votre colab pour le calcul sur GPU\n",
        "Dans le menu au dessus, choisir le sous-menu **Exécution** puis l'option **Modifier le type d'exécution**.\n",
        "\n",
        "Une fenêtre apparaît où vous pouvez choisir un accélérateur matériel. Choisissez un *GPU* puis *enregistrer* votre choix.\n",
        "\n",
        "Afin de vérifier que vous avez bien configuré votre session pour utiliser un GPU, exécuter le code ci-dessous (en passant la souris, une petite flèche pour l'exécuter apparaît).\n",
        "\n",
        "Si tout se passe bien, un tableau (en ascii) apparaît avec le type de carte (et son architecture) auquel vous avez accès. Si un message d'erreur apparaît, vérifiez dans **Modifier le type d'exécution** que l'accélérateur matériel est bien configuré pour un *GPU*"
      ]
    },
    {
      "cell_type": "code",
      "metadata": {
        "colab": {
          "base_uri": "https://localhost:8080/"
        },
        "id": "AisG7sW_bImi",
        "outputId": "3dd9d77e-8b99-4c21-bcc7-350d116afd1d"
      },
      "source": [
        "!nvidia-smi"
      ],
      "execution_count": 1,
      "outputs": [
        {
          "output_type": "stream",
          "name": "stdout",
          "text": [
            "Tue Mar  4 09:00:12 2025       \n",
            "+-----------------------------------------------------------------------------------------+\n",
            "| NVIDIA-SMI 550.54.15              Driver Version: 550.54.15      CUDA Version: 12.4     |\n",
            "|-----------------------------------------+------------------------+----------------------+\n",
            "| GPU  Name                 Persistence-M | Bus-Id          Disp.A | Volatile Uncorr. ECC |\n",
            "| Fan  Temp   Perf          Pwr:Usage/Cap |           Memory-Usage | GPU-Util  Compute M. |\n",
            "|                                         |                        |               MIG M. |\n",
            "|=========================================+========================+======================|\n",
            "|   0  Tesla T4                       Off |   00000000:00:04.0 Off |                    0 |\n",
            "| N/A   37C    P8             11W /   70W |       0MiB /  15360MiB |      0%      Default |\n",
            "|                                         |                        |                  N/A |\n",
            "+-----------------------------------------+------------------------+----------------------+\n",
            "                                                                                         \n",
            "+-----------------------------------------------------------------------------------------+\n",
            "| Processes:                                                                              |\n",
            "|  GPU   GI   CI        PID   Type   Process name                              GPU Memory |\n",
            "|        ID   ID                                                               Usage      |\n",
            "|=========================================================================================|\n",
            "|  No running processes found                                                             |\n",
            "+-----------------------------------------------------------------------------------------+\n"
          ]
        }
      ]
    },
    {
      "cell_type": "markdown",
      "metadata": {
        "id": "lKT2rlVxgil3"
      },
      "source": [
        "# Installation de PyCuda\n",
        "\n",
        "Pour utiliser le GPU sous Python il faut soit installer **PyCuda** pour effectuer des calculs, soit **PyTorch** pour effectuer du machine learning accéléré par les GPUs.\n",
        "\n",
        "Dans ce TP, nous nous bornerons uniquement à effectuer des calculs sur GPU !\n",
        "\n",
        "Pour cela, il faut d'abord installer pyCuda et donc exécuter le code ci-dessous (toujours en appuyant sur la flèche pour exécuter le code, et attendez, cela prend un petit moment...)"
      ]
    },
    {
      "cell_type": "code",
      "metadata": {
        "colab": {
          "base_uri": "https://localhost:8080/"
        },
        "id": "juIs9Ostgkoc",
        "outputId": "088d08eb-0401-4590-f65f-c03473f1081d"
      },
      "source": [
        "!pip install pycuda"
      ],
      "execution_count": 2,
      "outputs": [
        {
          "output_type": "stream",
          "name": "stdout",
          "text": [
            "Collecting pycuda\n",
            "  Downloading pycuda-2025.1.tar.gz (1.7 MB)\n",
            "\u001b[?25l     \u001b[90m━━━━━━━━━━━━━━━━━━━━━━━━━━━━━━━━━━━━━━━━\u001b[0m \u001b[32m0.0/1.7 MB\u001b[0m \u001b[31m?\u001b[0m eta \u001b[36m-:--:--\u001b[0m\r\u001b[2K     \u001b[90m━━━━━━━━━━━━━━━━━━━━━━━━━━━━━━━━━━━━━━━━\u001b[0m \u001b[32m1.7/1.7 MB\u001b[0m \u001b[31m61.8 MB/s\u001b[0m eta \u001b[36m0:00:00\u001b[0m\n",
            "\u001b[?25h  Installing build dependencies ... \u001b[?25l\u001b[?25hdone\n",
            "  Getting requirements to build wheel ... \u001b[?25l\u001b[?25hdone\n",
            "  Preparing metadata (pyproject.toml) ... \u001b[?25l\u001b[?25hdone\n",
            "Collecting pytools>=2011.2 (from pycuda)\n",
            "  Downloading pytools-2025.1.1-py3-none-any.whl.metadata (3.0 kB)\n",
            "Requirement already satisfied: platformdirs>=2.2.0 in /usr/local/lib/python3.11/dist-packages (from pycuda) (4.3.6)\n",
            "Collecting mako (from pycuda)\n",
            "  Downloading Mako-1.3.9-py3-none-any.whl.metadata (2.9 kB)\n",
            "Requirement already satisfied: typing-extensions>=4.5 in /usr/local/lib/python3.11/dist-packages (from pytools>=2011.2->pycuda) (4.12.2)\n",
            "Requirement already satisfied: MarkupSafe>=0.9.2 in /usr/local/lib/python3.11/dist-packages (from mako->pycuda) (3.0.2)\n",
            "Downloading pytools-2025.1.1-py3-none-any.whl (92 kB)\n",
            "\u001b[2K   \u001b[90m━━━━━━━━━━━━━━━━━━━━━━━━━━━━━━━━━━━━━━━━\u001b[0m \u001b[32m92.8/92.8 kB\u001b[0m \u001b[31m8.0 MB/s\u001b[0m eta \u001b[36m0:00:00\u001b[0m\n",
            "\u001b[?25hDownloading Mako-1.3.9-py3-none-any.whl (78 kB)\n",
            "\u001b[2K   \u001b[90m━━━━━━━━━━━━━━━━━━━━━━━━━━━━━━━━━━━━━━━━\u001b[0m \u001b[32m78.5/78.5 kB\u001b[0m \u001b[31m7.3 MB/s\u001b[0m eta \u001b[36m0:00:00\u001b[0m\n",
            "\u001b[?25hBuilding wheels for collected packages: pycuda\n",
            "  Building wheel for pycuda (pyproject.toml) ... \u001b[?25l\u001b[?25hdone\n",
            "  Created wheel for pycuda: filename=pycuda-2025.1-cp311-cp311-linux_x86_64.whl size=660393 sha256=a74c78a78cf8f04659d721a2a9e04f9c9d0a447b8ad1b016613981eb900b8da7\n",
            "  Stored in directory: /root/.cache/pip/wheels/77/7e/6c/d2d1451ea6424cdc3d67b36c16fa7111eafdf2034bc3405666\n",
            "Successfully built pycuda\n",
            "Installing collected packages: pytools, mako, pycuda\n",
            "Successfully installed mako-1.3.9 pycuda-2025.1 pytools-2025.1.1\n"
          ]
        }
      ]
    },
    {
      "cell_type": "markdown",
      "metadata": {
        "id": "qudDlvJtlFvM"
      },
      "source": [
        "# Vérification du bon fonctionnement du module PyCuda\n",
        "\n",
        "Afin de vérifier le bon fonctionnement de l'installation, nous allons écrire un script Cuda qui servira en même temps d'exemple pour le TP d'aujourd'hui. Ce script sera scindé en plusieurs morceaux et commenté pour que vous compreniez chaque partie du code.\n",
        "\n",
        "Ce code sera très simple : on va créer une matrice 4x4 avec des données prises \"au hasard\" (mais avec une graine aléatoire fixée, donc...) , recopier ce tableau dans la mémoire de la carte graphique et demander à la carte graphique de doubler la valeur de chaque élément de la matrice puis de recopier dans la mémoire de l'ordinateur les valeurs calculées. On affiche ensuite la matrice initiale et la matrice transformée.\n",
        "\n",
        "Dans un premier temps, chargeons les modules python nécessaire à l'exécution d'un noyau Cuda (**Remarque** : l'importation de ces modules n'est nécessaire qu'une seule fois pour **TOUTE** la session. Il sera donc inutile de reimporter ces modules dans le reste du TD !) :"
      ]
    },
    {
      "cell_type": "code",
      "metadata": {
        "id": "oqWKO6k_mw45"
      },
      "source": [
        "import pycuda.driver as cuda\n",
        "import pycuda.autoinit\n",
        "from pycuda.compiler import SourceModule"
      ],
      "execution_count": 3,
      "outputs": []
    },
    {
      "cell_type": "markdown",
      "metadata": {
        "id": "aDlqPZFGm1mH"
      },
      "source": [
        "Créons à l'aide de numpy un tableau *a* dont les valeurs aléatoires sont issues d'une graine fixée :"
      ]
    },
    {
      "cell_type": "code",
      "metadata": {
        "id": "eHjGxA72nD5Q"
      },
      "source": [
        "import numpy\n",
        "numpy.random.seed(1729)\n",
        "a = numpy.random.randn(4,4) # Sous forme de matrice 4 x 4"
      ],
      "execution_count": 4,
      "outputs": []
    },
    {
      "cell_type": "markdown",
      "metadata": {
        "id": "PB_UhGnJnL0H"
      },
      "source": [
        "Puisque certaines cartes graphiques supportent mal le double précision, nous allons demander à Python que les éléments de *a* soient en simple précision :"
      ]
    },
    {
      "cell_type": "code",
      "metadata": {
        "id": "BN3tt27lnZYf",
        "colab": {
          "base_uri": "https://localhost:8080/"
        },
        "outputId": "94ff240d-a2fa-46fa-8ea8-04e7ecea634d"
      },
      "source": [
        "a = a.astype(numpy.float32)\n",
        "print(a.nbytes)"
      ],
      "execution_count": 5,
      "outputs": [
        {
          "output_type": "stream",
          "name": "stdout",
          "text": [
            "64\n"
          ]
        }
      ]
    },
    {
      "cell_type": "markdown",
      "metadata": {
        "id": "bFvuQK_wnccf"
      },
      "source": [
        "Nous allons ensuite allouer de la place mémoire sur la mémoire vive du GPU. Comme en C, la place mémoire est exprimée en *Octets* :"
      ]
    },
    {
      "cell_type": "code",
      "metadata": {
        "id": "5WXc0_Q8nqw3"
      },
      "source": [
        "a_gpu = cuda.mem_alloc(a.nbytes)"
      ],
      "execution_count": 6,
      "outputs": []
    },
    {
      "cell_type": "markdown",
      "metadata": {
        "id": "LqIHO5oYnugQ"
      },
      "source": [
        "Une fois la réservation sur le GPU de faite, on recopie les valeurs de *a* dans le tableau *a_gpu* que l'on vient de réserver (htod signifie host **to** device):"
      ]
    },
    {
      "cell_type": "code",
      "metadata": {
        "id": "JMiVGjKEoAJJ"
      },
      "source": [
        "cuda.memcpy_htod(a_gpu, a)"
      ],
      "execution_count": 7,
      "outputs": []
    },
    {
      "cell_type": "markdown",
      "metadata": {
        "id": "G2EIIhLwoDLY"
      },
      "source": [
        "Il faut ensuite écrire le noyau qui s'exécutera sur la carte graphique à l'aide du langage CUDA (qui est une extension du langage C).\n",
        "\n",
        "**Remarquez** dans le code qu'on s'assure que les indices donnés par les numéros de threads ne dépassent pas la dimension de la matrice !"
      ]
    },
    {
      "cell_type": "code",
      "metadata": {
        "id": "p_uaN7JNok9-"
      },
      "source": [
        "mod = SourceModule(\"\"\"\n",
        "__global__ void doublify( int dim_x, int dim_y, float *a )\n",
        "{\n",
        "  if ((threadIdx.x < dim_x) && (threadIdx.y < dim_y))\n",
        "  {\n",
        "    int idx = threadIdx.x + threadIdx.y * dim_x;\n",
        "    a[idx] *= 2;\n",
        "  }\n",
        "}\n",
        "\"\"\")"
      ],
      "execution_count": 8,
      "outputs": []
    },
    {
      "cell_type": "markdown",
      "metadata": {
        "id": "IqsGbd-LqAlF"
      },
      "source": [
        "Nous allons récupérer ensuite un \"handle\" sur le noyau cuda que l'on vient de créer (en invoquant le nom de la fonction) et l'invoquer sur la carte graphique en dimensionnant la grille de calcul à l'aide de *block=(4,4,1)* (et en l'adaptant aux dimensions de la matrice).\n",
        "\n",
        "Ici, nous n'avons pas besoin de configurer de grilles car la dimension de la matrice *a* est petite, mais comme la taille d'un bloc dans une direction est limitée à 256, pour des cas plus gros, il faudra également passer une grille en paramètre à l'aide de *grid=(x,y,z)* où *x,y* et *z* sont des valeurs entières positives et utiliser dans le noyau cuda les valeurs *x,y* et *z* de **blockIdx** et **blockDim**.\n",
        "\n",
        "**REMARQUE IMPORTANTE** : Le noyau cuda ne veut que des types C basiques en argument. Or un entier python est tout sauf un type basique du C. Donc pour passer un argument entier à un noyau cuda, il faut créer un entier 32 bits à l'aide de numpy.int32"
      ]
    },
    {
      "cell_type": "code",
      "metadata": {
        "id": "QW9-l0XaqSuH"
      },
      "source": [
        "func = mod.get_function(\"doublify\")\n",
        "dim = numpy.int32(4)\n",
        "func(dim, dim, a_gpu, block=(4,4,1))"
      ],
      "execution_count": 9,
      "outputs": []
    },
    {
      "cell_type": "markdown",
      "metadata": {
        "id": "tbE0Dg-7qRlt"
      },
      "source": [
        "Il ne reste plus qu'à récupérer les nouvelles valeurs de la matrice en transférant les données de la matrice contenue par le GPU dans un tableau numpy se trouvant dans la RAM de l'ordinateur (dtoh signifie device **to** host) :"
      ]
    },
    {
      "cell_type": "code",
      "metadata": {
        "id": "Dt77Pr7JqrPU"
      },
      "source": [
        "a_doubled = numpy.empty_like(a)\n",
        "cuda.memcpy_dtoh(a_doubled, a_gpu)"
      ],
      "execution_count": 10,
      "outputs": []
    },
    {
      "cell_type": "markdown",
      "metadata": {
        "id": "aCEHT9OMwLCl"
      },
      "source": [
        "Il ne reste plus qu'à afficher la matrice initiale puis la matrice obtenue par le calcul sur GPU :"
      ]
    },
    {
      "cell_type": "code",
      "metadata": {
        "colab": {
          "base_uri": "https://localhost:8080/"
        },
        "id": "s7-qzHVFwP9R",
        "outputId": "437804be-2851-43e6-ff8f-fc455d86f33e"
      },
      "source": [
        "print(f\"a : {a}\")\n",
        "print(f\"a_gpu : {a_doubled}\")"
      ],
      "execution_count": 11,
      "outputs": [
        {
          "output_type": "stream",
          "name": "stdout",
          "text": [
            "a : [[-0.6873394  -0.82099473  1.6523609  -0.57529306]\n",
            " [ 1.0989678   0.92594606 -0.9934138  -0.8582211 ]\n",
            " [ 0.07488676  0.5293555   0.12095155 -0.22442362]\n",
            " [-1.5566785   0.05594088  0.16147153 -2.1346416 ]]\n",
            "a_gpu : [[-1.3746789  -1.6419895   3.3047218  -1.1505861 ]\n",
            " [ 2.1979356   1.8518921  -1.9868276  -1.7164422 ]\n",
            " [ 0.14977352  1.058711    0.2419031  -0.44884723]\n",
            " [-3.113357    0.11188176  0.32294306 -4.2692833 ]]\n"
          ]
        }
      ]
    },
    {
      "cell_type": "markdown",
      "metadata": {
        "id": "loEHbBbLwxwg"
      },
      "source": [
        "## Exercices de mises en bouche\n",
        "\n",
        "En vous inspirant du programme commenté ci-dessus, écrivez un code avec un noyau Cuda qui fait la somme de deux vecteurs de réels simples précisions et qui range le résultat dans un troisième vecteur.\n",
        "\n",
        "On s'exercera à utiliser des vecteurs de \"grandes\" dimensions (> 256) afin de s'entrainer à calculer des indices globaux dans le noyau cuda à l'aide de *threadIdx.x*, *blockIdx.x* et *dimBlock.x*.\n",
        "\n",
        "Ecrivez (ou copier coller) votre code dans la cellule ci-dessous"
      ]
    },
    {
      "cell_type": "code",
      "metadata": {
        "id": "MdP6BpWQyDyx",
        "colab": {
          "base_uri": "https://localhost:8080/"
        },
        "outputId": "3393c061-9b74-4022-e605-8ec7c44ea954"
      },
      "source": [
        "import numpy as np\n",
        "\n",
        "vector_size = 512\n",
        "\n",
        "# Génération des vecteurs aléatoires\n",
        "vector1 = np.random.randn(vector_size)\n",
        "vector2 = np.random.randn(vector_size)\n",
        "\n",
        "# Conversion en simple précision pour la carte graphique\n",
        "vector1 = vector1.astype(numpy.float32)\n",
        "vector2 = vector2.astype(numpy.float32)\n",
        "\n",
        "#On alloue de la mémoire dans le GPU pour les 2 vecteurs\n",
        "# + un vecteur 3 contenant le résultat de la somme\n",
        "vector1_gpu = cuda.mem_alloc(vector1.nbytes)\n",
        "vector2_gpu = cuda.mem_alloc(vector2.nbytes)\n",
        "vector3_gpu = cuda.mem_alloc(vector1.nbytes)\n",
        "\n",
        "# On recopie les valeurs des vecteurs initiaux dans les vecteurs GPU\n",
        "cuda.memcpy_htod(vector1_gpu, vector1)\n",
        "cuda.memcpy_htod(vector2_gpu, vector2)\n",
        "\n",
        "#Noyau qui s'exécutera sur la carte graphique en langage CUDA\n",
        "mod = SourceModule(\"\"\"\n",
        "__global__ void addition_vecteur(int vector_size, float *vector1, float *vector2, float *vector3)\n",
        "{\n",
        "  int idx = threadIdx.x + blockIdx.x * blockDim.x;\n",
        "  if (idx < vector_size)\n",
        "  {\n",
        "    vector3[idx] = vector1[idx] + vector2[idx];\n",
        "  }\n",
        "}\n",
        "\"\"\")\n",
        "\n",
        "func = mod.get_function(\"addition_vecteur\")\n",
        "\n",
        "block_size = 256  # Nombre de threads par bloc\n",
        "grid_size = (vector_size + block_size - 1) // block_size  # Nombre de blocs nécessaires\n",
        "\n",
        "func(np.int32(vector_size), vector1_gpu, vector2_gpu, vector3_gpu, block=(block_size, 1, 1), grid=(grid_size, 1))\n",
        "\n",
        "\n",
        "vector3 = numpy.empty_like(vector1)\n",
        "cuda.memcpy_dtoh(vector3, vector3_gpu)\n",
        "\n",
        "print(f\"Vecteur 1 : {vector1[:10]}\")\n",
        "print(f\"Vecteur 2 : {vector2[:10]}\")\n",
        "print(f\"Somme des 2 vecteurs : {vector3[:10]}\")"
      ],
      "execution_count": 14,
      "outputs": [
        {
          "output_type": "stream",
          "name": "stdout",
          "text": [
            "Vecteur 1 : [ 0.9453167  -0.10855224 -1.3612019  -0.81941     0.24171147  2.069729\n",
            "  0.0811483  -0.03090287  1.5317903   0.69547653]\n",
            "Vecteur 2 : [-0.5288044  -1.486262   -0.4053527  -0.16284765 -0.57773453 -0.1048873\n",
            "  0.09774701  0.9199203   1.1646551   0.1835154 ]\n",
            "Somme des 2 vecteurs : [ 0.41651225 -1.5948142  -1.7665546  -0.98225766 -0.33602306  1.9648418\n",
            "  0.1788953   0.88901746  2.6964455   0.87899196]\n"
          ]
        }
      ]
    },
    {
      "cell_type": "markdown",
      "metadata": {
        "id": "esWwXhGMy8vJ"
      },
      "source": [
        "Une fois le code mis au point, recopiez le ci-dessous et adaptez le pour additionner deux matrices carrées dans une troisième."
      ]
    },
    {
      "cell_type": "code",
      "metadata": {
        "id": "lMAqLHVmzJbG",
        "colab": {
          "base_uri": "https://localhost:8080/"
        },
        "outputId": "6fcc2f3e-d559-49ee-923d-c3e9483e66e9"
      },
      "source": [
        "import numpy as np\n",
        "\n",
        "matrix_size = 16\n",
        "\n",
        "# Génération de 2 matrices carrées aléatoires\n",
        "A = np.random.randn(matrix_size,matrix_size)\n",
        "B = np.random.randn(matrix_size,matrix_size)\n",
        "\n",
        "\n",
        "# Conversion en simple précision pour la carte graphique\n",
        "A = A.astype(numpy.float32)\n",
        "B = B.astype(numpy.float32)\n",
        "\n",
        "#On alloue de la mémoire dans le GPU pour les 2 vecteurs\n",
        "# + un vecteur 3 contenant le résultat de la somme\n",
        "A_gpu = cuda.mem_alloc(A.nbytes)\n",
        "B_gpu = cuda.mem_alloc(B.nbytes)\n",
        "C_gpu = cuda.mem_alloc(A.nbytes)\n",
        "\n",
        "# On recopie les valeurs des vecteurs initiaux dans les vecteurs GPU\n",
        "cuda.memcpy_htod(A_gpu, A)\n",
        "cuda.memcpy_htod(B_gpu, B)\n",
        "\n",
        "#Noyau qui s'exécutera sur la carte graphique en langage CUDA\n",
        "mod = SourceModule(\"\"\"\n",
        "__global__ void addition_matrices(int matrix_size, float *matrix1, float *matrix2, float *matrix3)\n",
        "{\n",
        "  int row = threadIdx.y + blockIdx.y * blockDim.y;\n",
        "  int col = threadIdx.x + blockIdx.x * blockDim.x;\n",
        "  int idx = row * matrix_size + col;\n",
        "  if (row < matrix_size && col < matrix_size)\n",
        "  {\n",
        "    matrix3[idx] = matrix1[idx] + matrix2[idx];\n",
        "  }\n",
        "}\n",
        "\"\"\")\n",
        "\n",
        "func = mod.get_function(\"addition_matrices\")\n",
        "\n",
        "block_size = (16,16,1)  # Nombre de threads par bloc\n",
        "grid_size = (matrix_size // 16, matrix_size // 16, 1)   # Nombre de blocs nécessaires\n",
        "\n",
        "func(np.int32(matrix_size), A_gpu, B_gpu, C_gpu, block=block_size, grid=grid_size)\n",
        "\n",
        "\n",
        "C = numpy.empty_like(A)\n",
        "cuda.memcpy_dtoh(C, C_gpu)\n",
        "\n",
        "print(f\"Matrice A : {A}\")\n",
        "print(f\"Matrice B : {B}\")\n",
        "print(f\"C = A + B : {C}\")"
      ],
      "execution_count": 15,
      "outputs": [
        {
          "output_type": "stream",
          "name": "stdout",
          "text": [
            "Matrice A : [[ 1.8012248  -0.3655079   0.4820361  -0.50719553  0.38630643  0.32882997\n",
            "  -0.791296   -1.1272222   0.27203968 -1.0591557  -0.76266277 -1.841071\n",
            "   0.7202861   0.01313462  0.77025163 -1.2035798 ]\n",
            " [ 0.42677838 -0.4604647  -1.9296347   0.5911467   0.28127325 -1.1582808\n",
            "   0.12075319 -1.4405818  -0.08458255  0.14172772 -0.8712514   0.17590691\n",
            "   0.7397705  -0.5062639   0.9836482   1.1462892 ]\n",
            " [-1.1474459  -0.2736094   0.69338304 -0.54397994 -2.5205836   0.4075639\n",
            "  -0.50345314 -0.3526463  -0.2322923   0.83069867  0.56624645 -0.09856614\n",
            "   0.8148096   1.5590962  -0.02492817 -0.13869773]\n",
            " [ 0.0809891   1.5363559   2.297381   -0.9840113   1.1675441   0.8982737\n",
            "  -0.42645267  0.20577413 -1.5073296   0.6161696   0.8763564  -2.237202\n",
            "   0.23563862 -0.62541014  0.9152832   0.50101876]\n",
            " [ 0.5650691   0.5011927  -2.2268913  -0.30771974 -0.3137703   1.4504361\n",
            "   0.57440907 -1.7856414  -1.4781289  -0.82911247  0.95867425 -0.7907732\n",
            "   0.48523462 -1.6796404  -1.0292715   0.6028907 ]\n",
            " [ 0.13344447 -1.3567722  -0.7119216   0.8179447  -1.1252886  -1.4095889\n",
            "  -0.97644854 -0.2343982   0.6240922   0.17509481 -1.4294035  -0.76507986\n",
            "  -1.2823724  -0.26185834 -0.3193998  -0.77504843]\n",
            " [-2.0639546  -0.07342083 -1.9217939   0.0067801  -1.2139261  -0.27486664\n",
            "  -0.7214549   1.5114183  -1.1138176   0.5107292  -1.4643304  -1.4916035\n",
            "  -0.7629677  -0.6433694  -0.5787889  -1.3058087 ]\n",
            " [ 1.4939351  -0.0148489  -1.3044684  -1.006175    0.02083909 -1.4694444\n",
            "   0.8240129   1.0380147  -0.6197773   0.05929222  0.33806914 -0.23436718\n",
            "   0.6017166   0.5533064  -2.4885576   0.28610256]\n",
            " [-1.3553308  -1.0199552   1.9794515  -0.6025266   0.10939717 -0.5780329\n",
            "  -2.3592558  -1.4830501  -0.531591    1.4303437  -0.5727748   0.5144133\n",
            "   0.32348764 -0.37806723  0.5856217  -0.86302453]\n",
            " [ 0.84033424 -0.8502874   0.3612938  -0.04695494  0.28152877  0.11864065\n",
            "   0.04958544 -1.2983027  -1.1984897   0.29340753 -1.2100472  -0.5755347\n",
            "  -0.14531872 -0.85972524 -0.20586894  0.20154862]\n",
            " [ 2.753387   -1.8819258  -0.68762213  1.5290045   0.12684365 -0.90460116\n",
            "   0.47242317  2.228928    0.568513   -0.8169176  -1.1127256   0.89892364\n",
            "  -0.18373732 -0.2928697   0.47604224 -0.9091163 ]\n",
            " [ 0.5262631  -0.01161158  1.2218622   0.6673178   0.6128389  -1.6914397\n",
            "   1.2760094   0.49649093  0.4344597   0.72519314  0.57565576 -0.32159558\n",
            "  -0.18332383 -0.23206645  0.1279048  -0.06380956]\n",
            " [-0.07261848 -2.2352076  -0.23510198  0.19136183 -0.50009274 -1.690493\n",
            "  -1.4890642   0.25850135 -0.23416838  0.5653724  -0.50124717 -0.44839233\n",
            "  -2.5966396  -1.103811   -0.76027834 -1.0609055 ]\n",
            " [-0.91921777  1.3990543   1.2773658  -1.1706445   0.19884409 -0.20283775\n",
            "   0.48311177  0.7032862   0.15683517  0.95902604 -0.11817591  0.3338158\n",
            "   0.6663521  -1.1088896   0.3040363   1.1684895 ]\n",
            " [ 0.8951375   1.4278879   2.7401516  -0.65626293 -0.39830348  1.893774\n",
            "   0.6236987   0.3065992   0.09611536 -0.19077808  0.2764106   0.623362\n",
            "   2.7075586   0.6117946  -0.65766245  1.2166035 ]\n",
            " [-0.4224574  -1.4427472  -0.8645178  -1.7847979  -1.1736982  -1.0334831\n",
            "  -0.46411443 -1.9018364  -1.261139   -3.6604908   0.06283754  1.036396\n",
            "   0.6616766   1.4064602   1.6482116  -1.3528498 ]]\n",
            "Matrice B : [[-0.17109962  1.2939156   2.0383172  -1.2809228   0.0788356  -1.0590183\n",
            "  -0.75309783 -0.34373266 -0.47206607 -1.3342686   2.0773668  -0.3942831\n",
            "   0.40614167 -0.48500666 -1.1926637  -0.18368308]\n",
            " [-0.5609983  -0.12174379  0.8287499  -0.5952893   1.2523258   0.69691813\n",
            "   0.40617323  1.168266   -0.37621194  0.8237411  -3.1522617   0.9429135\n",
            "  -0.59423065  1.6338234  -2.582639   -1.4206703 ]\n",
            " [-0.7761878   1.1512195   0.6786506   0.61052203 -1.3649216  -0.21013492\n",
            "  -0.2528009   1.666847   -0.9856126  -1.2981743  -0.41847986 -0.50725114\n",
            "  -0.70475745  0.209178    0.66975033 -0.1134274 ]\n",
            " [-0.5516382   0.4982496   0.9238878  -1.0839193  -0.8663937   0.71840656\n",
            "  -0.68161774 -1.7726926  -0.7213433  -1.8409268   2.0285556   1.3164147\n",
            "   1.1806517  -0.1976928  -0.8583247  -0.43508905]\n",
            " [ 0.15507999  0.30469847 -1.2743375   1.3574327  -0.7196894  -0.6103847\n",
            "  -0.5710072   0.20049599  0.9154544  -0.07745494 -1.7428154  -1.9565041\n",
            "  -1.2284368  -0.84548473  0.9414119   0.803469  ]\n",
            " [ 0.1615678  -0.9175673  -0.50822073  0.42510894  0.5168382  -0.13230628\n",
            "   0.09323585  0.06039027  0.13632756  0.93303597 -0.4637205   0.32025138\n",
            "  -0.6364614   0.48752558 -0.3850382  -1.4535542 ]\n",
            " [-3.0637383   0.37178627 -0.01137254 -0.81850195 -1.1553142  -0.72411096\n",
            "   0.77884763 -1.1600987   2.3302321  -1.6909454  -1.298925   -0.82086766\n",
            "   1.5030432  -1.1183568   0.5922504  -0.13081397]\n",
            " [-1.1838833   0.07267899  2.7490008  -1.3455447   1.709793    0.64547414\n",
            "   1.0837017   1.3432193   1.2049197  -1.7766008   0.867924    1.6814344\n",
            "  -1.6325163  -0.16705367  0.28789556  2.308469  ]\n",
            " [-0.25751844 -2.2805274   0.21253568 -0.6156773  -0.10163648  1.5935675\n",
            "   1.2802986  -1.243888    0.6977223   0.14740054  0.63442373  0.77115\n",
            "   1.2406423  -0.44785166  1.3332883   0.288479  ]\n",
            " [-0.8924261   0.42603073 -1.9528369  -0.26021558 -1.3046372  -1.7713609\n",
            "   1.4088464   0.65383774 -1.7246376  -0.92965424  0.7538877   1.6341379\n",
            "  -0.94938576 -0.68973804  0.0572196  -0.23800138]\n",
            " [ 0.5341016  -1.4450281  -0.15871875  1.0872949  -0.6286119   0.6666622\n",
            "   0.3946653  -1.2160337  -0.01018313 -0.8745618   0.9887489   0.7975594\n",
            "  -0.8658559   0.81412053 -1.7552142  -0.86225367]\n",
            " [-0.13952911  1.564627    0.0573658   0.27417988  0.7980492   1.0282772\n",
            "   0.05241431 -0.9031456  -2.2912414  -0.97067225 -1.6144309  -1.2065014\n",
            "  -0.27678728 -0.83121663 -0.64242375 -0.50322884]\n",
            " [ 0.26628783 -0.7922861  -1.6583811   0.38605714  0.6268369  -0.740522\n",
            "  -0.72687596  0.10125045  1.2839544  -0.66894966  0.39080912 -2.1194293\n",
            "  -0.9654127   0.6944459  -0.73741466  1.9109453 ]\n",
            " [-1.1493797   1.2387758  -1.0794804   1.6443099   0.4185794  -0.80362606\n",
            "  -0.2957787   0.2003798  -0.3342839   0.67651296  1.4208013   0.8258009\n",
            "   2.2349272  -0.09695051 -0.02642508 -0.11461576]\n",
            " [-0.5377312  -0.22523867  2.113785   -2.156526    0.89552236  1.1802692\n",
            "   0.26801333  1.2078532   0.5313719  -0.7946903   2.4868426  -0.08976911\n",
            "  -0.658177    1.6753122   1.2124158   1.135979  ]\n",
            " [ 0.5523092   0.06997606 -0.27970198  0.07849175 -0.21704465 -1.3128735\n",
            "   0.9389427  -1.09216     1.9871467   1.0336833  -1.0016631  -0.73207915\n",
            "  -2.0270655  -1.606379    0.29327437  0.71326905]]\n",
            "C = A + B : [[ 1.63012516e+00  9.28407729e-01  2.52035332e+00 -1.78811836e+00\n",
            "   4.65142041e-01 -7.30188251e-01 -1.54439378e+00 -1.47095490e+00\n",
            "  -2.00026393e-01 -2.39342427e+00  1.31470406e+00 -2.23535419e+00\n",
            "   1.12642777e+00 -4.71872032e-01 -4.22412038e-01 -1.38726282e+00]\n",
            " [-1.34219944e-01 -5.82208455e-01 -1.10088480e+00 -4.14258242e-03\n",
            "   1.53359902e+00 -4.61362720e-01  5.26926398e-01 -2.72315741e-01\n",
            "  -4.60794508e-01  9.65468764e-01 -4.02351332e+00  1.11882043e+00\n",
            "   1.45539820e-01  1.12755942e+00 -1.59899080e+00 -2.74381042e-01]\n",
            " [-1.92363369e+00  8.77610087e-01  1.37203360e+00  6.65420890e-02\n",
            "  -3.88550520e+00  1.97428972e-01 -7.56254077e-01  1.31420064e+00\n",
            "  -1.21790481e+00 -4.67475593e-01  1.47766590e-01 -6.05817258e-01\n",
            "   1.10052168e-01  1.76827419e+00  6.44822180e-01 -2.52125144e-01]\n",
            " [-4.70649093e-01  2.03460550e+00  3.22126865e+00 -2.06793070e+00\n",
            "   3.01150441e-01  1.61668026e+00 -1.10807037e+00 -1.56691837e+00\n",
            "  -2.22867298e+00 -1.22475719e+00  2.90491199e+00 -9.20787215e-01\n",
            "   1.41629028e+00 -8.23102951e-01  5.69584966e-02  6.59297109e-02]\n",
            " [ 7.20149040e-01  8.05891156e-01 -3.50122881e+00  1.04971302e+00\n",
            "  -1.03345966e+00  8.40051413e-01  3.40187550e-03 -1.58514547e+00\n",
            "  -5.62674522e-01 -9.06567395e-01 -7.84141123e-01 -2.74727726e+00\n",
            "  -7.43202209e-01 -2.52512503e+00 -8.78595710e-02  1.40635967e+00]\n",
            " [ 2.95012295e-01 -2.27433944e+00 -1.22014236e+00  1.24305367e+00\n",
            "  -6.08450413e-01 -1.54189515e+00 -8.83212686e-01 -1.74007922e-01\n",
            "   7.60419786e-01  1.10813081e+00 -1.89312410e+00 -4.44828480e-01\n",
            "  -1.91883373e+00  2.25667238e-01 -7.04437971e-01 -2.22860265e+00]\n",
            " [-5.12769318e+00  2.98365444e-01 -1.93316650e+00 -8.11721861e-01\n",
            "  -2.36924028e+00 -9.98977602e-01  5.73927164e-02  3.51319671e-01\n",
            "   1.21641457e+00 -1.18021619e+00 -2.76325560e+00 -2.31247115e+00\n",
            "   7.40075469e-01 -1.76172614e+00  1.34615302e-02 -1.43662262e+00]\n",
            " [ 3.10051799e-01  5.78300878e-02  1.44453239e+00 -2.35171986e+00\n",
            "   1.73063207e+00 -8.23970258e-01  1.90771461e+00  2.38123393e+00\n",
            "   5.85142374e-01 -1.71730864e+00  1.20599318e+00  1.44706726e+00\n",
            "  -1.03079963e+00  3.86252731e-01 -2.20066214e+00  2.59457159e+00]\n",
            " [-1.61284924e+00 -3.30048251e+00  2.19198728e+00 -1.21820390e+00\n",
            "   7.76069611e-03  1.01553464e+00 -1.07895720e+00 -2.72693825e+00\n",
            "   1.66131318e-01  1.57774425e+00  6.16489053e-02  1.28556323e+00\n",
            "   1.56412995e+00 -8.25918913e-01  1.91891003e+00 -5.74545503e-01]\n",
            " [-5.20918369e-02 -4.24256653e-01 -1.59154308e+00 -3.07170510e-01\n",
            "  -1.02310848e+00 -1.65272021e+00  1.45843184e+00 -6.44464910e-01\n",
            "  -2.92312717e+00 -6.36246681e-01 -4.56159532e-01  1.05860317e+00\n",
            "  -1.09470451e+00 -1.54946327e+00 -1.48649350e-01 -3.64527553e-02]\n",
            " [ 3.28748846e+00 -3.32695389e+00 -8.46340895e-01  2.61629939e+00\n",
            "  -5.01768291e-01 -2.37938941e-01  8.67088437e-01  1.01289439e+00\n",
            "   5.58329821e-01 -1.69147944e+00 -1.23976707e-01  1.69648302e+00\n",
            "  -1.04959321e+00  5.21250844e-01 -1.27917194e+00 -1.77136993e+00]\n",
            " [ 3.86734009e-01  1.55301547e+00  1.27922797e+00  9.41497684e-01\n",
            "   1.41088820e+00 -6.63162589e-01  1.32842374e+00 -4.06654686e-01\n",
            "  -1.85678172e+00 -2.45479107e-01 -1.03877521e+00 -1.52809691e+00\n",
            "  -4.60111111e-01 -1.06328309e+00 -5.14518976e-01 -5.67038417e-01]\n",
            " [ 1.93669349e-01 -3.02749372e+00 -1.89348304e+00  5.77418983e-01\n",
            "   1.26744151e-01 -2.43101501e+00 -2.21594024e+00  3.59751791e-01\n",
            "   1.04978597e+00 -1.03577256e-01 -1.10438049e-01 -2.56782174e+00\n",
            "  -3.56205225e+00 -4.09365118e-01 -1.49769306e+00  8.50039840e-01]\n",
            " [-2.06859756e+00  2.63783026e+00  1.97885394e-01  4.73665357e-01\n",
            "   6.17423475e-01 -1.00646377e+00  1.87333077e-01  9.03665960e-01\n",
            "  -1.77448720e-01  1.63553905e+00  1.30262542e+00  1.15961671e+00\n",
            "   2.90127921e+00 -1.20584011e+00  2.77611196e-01  1.05387366e+00]\n",
            " [ 3.57406318e-01  1.20264924e+00  4.85393667e+00 -2.81278896e+00\n",
            "   4.97218877e-01  3.07404327e+00  8.91712070e-01  1.51445246e+00\n",
            "   6.27487242e-01 -9.85468388e-01  2.76325321e+00  5.33592880e-01\n",
            "   2.04938173e+00  2.28710675e+00  5.54753363e-01  2.35258245e+00]\n",
            " [ 1.29851818e-01 -1.37277114e+00 -1.14421976e+00 -1.70630622e+00\n",
            "  -1.39074278e+00 -2.34635663e+00  4.74828243e-01 -2.99399638e+00\n",
            "   7.26007700e-01 -2.62680745e+00 -9.38825548e-01  3.04316878e-01\n",
            "  -1.36538887e+00 -1.99918866e-01  1.94148600e+00 -6.39580786e-01]]\n"
          ]
        }
      ]
    },
    {
      "cell_type": "markdown",
      "metadata": {
        "id": "_67yypc0yL0g"
      },
      "source": [
        "# Exercice final\n",
        "\n",
        "Nous allons de nouveau nous intéresser à l'ensemble de Mandelbrot. La cellule ci-dessous contient un code permettant de calculer à l'aide de numpy un ensemble de mandelbrot (le code est simplifié par rapport aux codes sur CPU pour faciliter le TP même si il utilise la notation vectorielle de numpy (il faudra y faire attention pour code le noyau cuda !) : code repris de https://stackoverflow.com/questions/60467316/displaying-mandelbrot-set-in-python-using-matplotlib-pyplot-and-numpy).\n",
        "\n",
        "Transformez le de sorte que sur GPU, chaque thread calcule un pixel de l'image de destination."
      ]
    },
    {
      "cell_type": "code",
      "metadata": {
        "colab": {
          "base_uri": "https://localhost:8080/",
          "height": 532
        },
        "id": "YcAhzA4Gzb51",
        "outputId": "adb80f6c-9468-419e-8559-6a496ed9e055"
      },
      "source": [
        "import pylab as plt\n",
        "import numpy as np\n",
        "\n",
        "# initial values\n",
        "loop = 100 # number of interations\n",
        "div = 1000 # divisions\n",
        "\n",
        "#tableaux pour les coordonnées dans le plan complexe\n",
        "x = np.linspace(-2, 2, div)\n",
        "y = np.linspace(-1.5, 1.5, div)\n",
        "x = x.astype(np.float32)\n",
        "y = y.astype(np.float32)\n",
        "\n",
        "# allocation de la mémoire pour le résultat final\n",
        "result = np.zeros((div, div))\n",
        "result = result.astype(np.int32)\n",
        "\n",
        "# on alloue de la mémoire dans le gpu\n",
        "x_gpu = cuda.mem_alloc(x.nbytes)\n",
        "y_gpu = cuda.mem_alloc(y.nbytes)\n",
        "result_gpu = cuda.mem_alloc(result.nbytes)\n",
        "\n",
        "# # On recopie les valeurs des coordonnées dans les coordonnées GPU\n",
        "cuda.memcpy_htod(x_gpu, x)\n",
        "cuda.memcpy_htod(y_gpu, y)\n",
        "\n",
        "\n",
        "#Noyau CUDA\n",
        "mandelbrot_kernel = SourceModule(\"\"\"\n",
        "__global__ void mandelbrot_set(float *x, float *y, int *result, int max_iter, int div)\n",
        "{\n",
        "    // Calcul des coordonnées du pixel\n",
        "    int row = threadIdx.y + blockIdx.y * blockDim.y;\n",
        "    int col = threadIdx.x + blockIdx.x * blockDim.x;\n",
        "\n",
        "    if (row < div && col < div) {\n",
        "        // Correspondance avec le plan complexe\n",
        "        float c_real = x[col];\n",
        "        float c_imag = y[row];\n",
        "\n",
        "        float z_real = 0.0f;\n",
        "        float z_imag = 0.0f;\n",
        "        int iteration = 0;\n",
        "\n",
        "        // Couleur initiale (pour les points dans l'ensemble)\n",
        "        int color = max_iter + 5;\n",
        "\n",
        "        while (iteration < max_iter && z_real*z_real + z_imag*z_imag <= 4.0f) {\n",
        "            float temp = z_real*z_real - z_imag*z_imag + c_real;\n",
        "            z_imag = 2.0f * z_real * z_imag + c_imag;\n",
        "            z_real = temp;\n",
        "            iteration++;\n",
        "        }\n",
        "\n",
        "        // Si la série diverge, on définit la couleur selon l'itération\n",
        "        if (iteration < max_iter) {\n",
        "            color = iteration;\n",
        "        }\n",
        "\n",
        "        // Stockage du résultat\n",
        "        result[row * div + col] = color;\n",
        "    }\n",
        "}\n",
        "\"\"\")\n",
        "\n",
        "\n",
        "\n",
        "\n",
        "# all possible values of c\n",
        "c = np.linspace(-2,2,div)[:,np.newaxis] + 1j*np.linspace(-1.5,1.5,div)[np.newaxis,:]\n",
        "# array of ones of same dimensions as c\n",
        "ones = np.ones(np.shape(c), np.int)\n",
        "# Array that will hold colors for plot, initial value set here will be\n",
        "# the color of the points in the mandelbrot set, i.e. where the series\n",
        "# converges.\n",
        "# For the code below to work, this initial value must at least be 'loop'.\n",
        "# Here it is loop + 5\n",
        "color = ones * loop + 5\n",
        "z = 0\n",
        "for n in range(0,loop):\n",
        "      z = z**2 + c\n",
        "      diverged = np.abs(z)>2\n",
        "      # Store value of n at which series was detected to diverge.\n",
        "      # The later the series is detected to diverge, the higher\n",
        "      # the 'color' value.\n",
        "      color[diverged] = np.minimum(color[diverged], ones[diverged]*n)\n",
        "\n",
        "plt.rcParams['figure.figsize'] = [12, 7.5]\n",
        "# contour plot with real and imaginary parts of c as axes\n",
        "# and colored according to 'color'\n",
        "plt.contourf(c.real, c.imag, color)\n",
        "plt.xlabel(\"Real($c$)\")\n",
        "plt.ylabel(\"Imag($c$)\")\n",
        "plt.xlim(-2,2)\n",
        "plt.ylim(-1.5,1.5)\n",
        "plt.savefig(\"plot.png\")\n",
        "plt.show()"
      ],
      "execution_count": null,
      "outputs": [
        {
          "output_type": "stream",
          "name": "stderr",
          "text": [
            "/usr/local/lib/python3.7/dist-packages/ipykernel_launcher.py:18: RuntimeWarning: overflow encountered in square\n",
            "/usr/local/lib/python3.7/dist-packages/ipykernel_launcher.py:18: RuntimeWarning: invalid value encountered in square\n",
            "/usr/local/lib/python3.7/dist-packages/ipykernel_launcher.py:19: RuntimeWarning: overflow encountered in absolute\n"
          ]
        },
        {
          "output_type": "display_data",
          "data": {
            "image/png": "[encoded data removed]",
            "text/plain": [
              "<Figure size 864x540 with 1 Axes>"
            ]
          },
          "metadata": {
            "needs_background": "light"
          }
        }
      ]
    }
  ]
}